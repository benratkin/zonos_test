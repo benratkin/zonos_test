{
 "cells": [
  {
   "cell_type": "markdown",
   "metadata": {},
   "source": [
    "# Zonos Data Analysis Test"
   ]
  },
  {
   "cell_type": "code",
   "execution_count": 96,
   "metadata": {},
   "outputs": [],
   "source": [
    "# Prep and ingest dataset\n",
    "import matplotlib.pyplot as plt\n",
    "import pandas as pd\n",
    "from pandasql import sqldf\n",
    "\n",
    "pysqldf = lambda x: sqldf(x, globals())\n",
    "\n",
    "orders = pd.read_csv('orders.csv')\n",
    "visits = pd.read_csv('visits.csv')"
   ]
  },
  {
   "cell_type": "code",
   "execution_count": 82,
   "metadata": {},
   "outputs": [
    {
     "data": {
      "text/html": [
       "<div>\n",
       "<style scoped>\n",
       "    .dataframe tbody tr th:only-of-type {\n",
       "        vertical-align: middle;\n",
       "    }\n",
       "\n",
       "    .dataframe tbody tr th {\n",
       "        vertical-align: top;\n",
       "    }\n",
       "\n",
       "    .dataframe thead th {\n",
       "        text-align: right;\n",
       "    }\n",
       "</style>\n",
       "<table border=\"1\" class=\"dataframe\">\n",
       "  <thead>\n",
       "    <tr style=\"text-align: right;\">\n",
       "      <th></th>\n",
       "      <th>storeId</th>\n",
       "      <th>storeName</th>\n",
       "      <th>dateCreated</th>\n",
       "      <th>itemsTotal</th>\n",
       "      <th>shipping</th>\n",
       "      <th>dutyTaxes</th>\n",
       "      <th>grandTotal</th>\n",
       "      <th>country</th>\n",
       "    </tr>\n",
       "  </thead>\n",
       "  <tbody>\n",
       "    <tr>\n",
       "      <td>0</td>\n",
       "      <td>9</td>\n",
       "      <td>Darth Vader</td>\n",
       "      <td>2020-11-01 0:04:34</td>\n",
       "      <td>127.43</td>\n",
       "      <td>0.0</td>\n",
       "      <td>47.53</td>\n",
       "      <td>174.96</td>\n",
       "      <td>CA</td>\n",
       "    </tr>\n",
       "  </tbody>\n",
       "</table>\n",
       "</div>"
      ],
      "text/plain": [
       "   storeId    storeName         dateCreated  itemsTotal  shipping  dutyTaxes  \\\n",
       "0        9  Darth Vader  2020-11-01 0:04:34      127.43       0.0      47.53   \n",
       "\n",
       "   grandTotal country  \n",
       "0      174.96      CA  "
      ]
     },
     "execution_count": 82,
     "metadata": {},
     "output_type": "execute_result"
    }
   ],
   "source": [
    "# View one record for column headers reference\n",
    "orders.head(1)"
   ]
  },
  {
   "cell_type": "code",
   "execution_count": 83,
   "metadata": {},
   "outputs": [
    {
     "data": {
      "text/html": [
       "<div>\n",
       "<style scoped>\n",
       "    .dataframe tbody tr th:only-of-type {\n",
       "        vertical-align: middle;\n",
       "    }\n",
       "\n",
       "    .dataframe tbody tr th {\n",
       "        vertical-align: top;\n",
       "    }\n",
       "\n",
       "    .dataframe thead th {\n",
       "        text-align: right;\n",
       "    }\n",
       "</style>\n",
       "<table border=\"1\" class=\"dataframe\">\n",
       "  <thead>\n",
       "    <tr style=\"text-align: right;\">\n",
       "      <th></th>\n",
       "      <th>storeId</th>\n",
       "      <th>storeName</th>\n",
       "      <th>dateCreated</th>\n",
       "    </tr>\n",
       "  </thead>\n",
       "  <tbody>\n",
       "    <tr>\n",
       "      <td>0</td>\n",
       "      <td>3</td>\n",
       "      <td>Obi-Wan Kenobi</td>\n",
       "      <td>2020-11-01 0:03:32</td>\n",
       "    </tr>\n",
       "  </tbody>\n",
       "</table>\n",
       "</div>"
      ],
      "text/plain": [
       "   storeId       storeName         dateCreated\n",
       "0        3  Obi-Wan Kenobi  2020-11-01 0:03:32"
      ]
     },
     "execution_count": 83,
     "metadata": {},
     "output_type": "execute_result"
    }
   ],
   "source": [
    "# View one record for column headers reference\n",
    "visits.head(1)"
   ]
  },
  {
   "cell_type": "markdown",
   "metadata": {},
   "source": [
    "# What are the number of orders and total sales grouped by country?"
   ]
  },
  {
   "cell_type": "code",
   "execution_count": 84,
   "metadata": {},
   "outputs": [
    {
     "data": {
      "text/html": [
       "<div>\n",
       "<style scoped>\n",
       "    .dataframe tbody tr th:only-of-type {\n",
       "        vertical-align: middle;\n",
       "    }\n",
       "\n",
       "    .dataframe tbody tr th {\n",
       "        vertical-align: top;\n",
       "    }\n",
       "\n",
       "    .dataframe thead th {\n",
       "        text-align: right;\n",
       "    }\n",
       "</style>\n",
       "<table border=\"1\" class=\"dataframe\">\n",
       "  <thead>\n",
       "    <tr style=\"text-align: right;\">\n",
       "      <th></th>\n",
       "      <th>country</th>\n",
       "      <th>count(*)</th>\n",
       "      <th>sum(grandTotal)</th>\n",
       "    </tr>\n",
       "  </thead>\n",
       "  <tbody>\n",
       "    <tr>\n",
       "      <td>0</td>\n",
       "      <td>CA</td>\n",
       "      <td>15223</td>\n",
       "      <td>2519825.00</td>\n",
       "    </tr>\n",
       "    <tr>\n",
       "      <td>1</td>\n",
       "      <td>FR</td>\n",
       "      <td>6208</td>\n",
       "      <td>511384.05</td>\n",
       "    </tr>\n",
       "    <tr>\n",
       "      <td>2</td>\n",
       "      <td>AU</td>\n",
       "      <td>2373</td>\n",
       "      <td>490452.48</td>\n",
       "    </tr>\n",
       "    <tr>\n",
       "      <td>3</td>\n",
       "      <td>GB</td>\n",
       "      <td>3469</td>\n",
       "      <td>478399.65</td>\n",
       "    </tr>\n",
       "    <tr>\n",
       "      <td>4</td>\n",
       "      <td>DE</td>\n",
       "      <td>1647</td>\n",
       "      <td>262117.53</td>\n",
       "    </tr>\n",
       "  </tbody>\n",
       "</table>\n",
       "</div>"
      ],
      "text/plain": [
       "  country  count(*)  sum(grandTotal)\n",
       "0      CA     15223       2519825.00\n",
       "1      FR      6208        511384.05\n",
       "2      AU      2373        490452.48\n",
       "3      GB      3469        478399.65\n",
       "4      DE      1647        262117.53"
      ]
     },
     "execution_count": 84,
     "metadata": {},
     "output_type": "execute_result"
    }
   ],
   "source": [
    "# run query, just showing first 5.\n",
    "grouped_orders = pysqldf(\"\"\"\n",
    "    select country, count(*), sum(grandTotal) from orders group by country order by sum(grandTotal) desc;\n",
    "\"\"\")\n",
    "grouped_orders.head(5)"
   ]
  },
  {
   "cell_type": "markdown",
   "metadata": {},
   "source": [
    "# What is the top store in $ amount?"
   ]
  },
  {
   "cell_type": "code",
   "execution_count": 85,
   "metadata": {},
   "outputs": [
    {
     "data": {
      "text/plain": [
       "9     12596\n",
       "5     11949\n",
       "1      5801\n",
       "4      2080\n",
       "3      1825\n",
       "8      1242\n",
       "10     1120\n",
       "7       864\n",
       "2       787\n",
       "6       364\n",
       "Name: storeId, dtype: int64"
      ]
     },
     "execution_count": 85,
     "metadata": {},
     "output_type": "execute_result"
    }
   ],
   "source": [
    "# Well... first, how many unique ids are there in the storeId column?\n",
    "orders.storeId.value_counts()"
   ]
  },
  {
   "cell_type": "markdown",
   "metadata": {},
   "source": [
    "There are apparently 10 stores in the dataset. Let's group the orders and get a sum."
   ]
  },
  {
   "cell_type": "code",
   "execution_count": 86,
   "metadata": {},
   "outputs": [
    {
     "data": {
      "text/html": [
       "<div>\n",
       "<style scoped>\n",
       "    .dataframe tbody tr th:only-of-type {\n",
       "        vertical-align: middle;\n",
       "    }\n",
       "\n",
       "    .dataframe tbody tr th {\n",
       "        vertical-align: top;\n",
       "    }\n",
       "\n",
       "    .dataframe thead th {\n",
       "        text-align: right;\n",
       "    }\n",
       "</style>\n",
       "<table border=\"1\" class=\"dataframe\">\n",
       "  <thead>\n",
       "    <tr style=\"text-align: right;\">\n",
       "      <th></th>\n",
       "      <th>storeId</th>\n",
       "      <th>sum(grandTotal)</th>\n",
       "    </tr>\n",
       "  </thead>\n",
       "  <tbody>\n",
       "    <tr>\n",
       "      <td>0</td>\n",
       "      <td>9</td>\n",
       "      <td>1570505.63</td>\n",
       "    </tr>\n",
       "    <tr>\n",
       "      <td>1</td>\n",
       "      <td>5</td>\n",
       "      <td>848480.85</td>\n",
       "    </tr>\n",
       "    <tr>\n",
       "      <td>2</td>\n",
       "      <td>3</td>\n",
       "      <td>725627.54</td>\n",
       "    </tr>\n",
       "    <tr>\n",
       "      <td>3</td>\n",
       "      <td>1</td>\n",
       "      <td>615513.04</td>\n",
       "    </tr>\n",
       "    <tr>\n",
       "      <td>4</td>\n",
       "      <td>8</td>\n",
       "      <td>466044.54</td>\n",
       "    </tr>\n",
       "    <tr>\n",
       "      <td>5</td>\n",
       "      <td>2</td>\n",
       "      <td>448350.78</td>\n",
       "    </tr>\n",
       "    <tr>\n",
       "      <td>6</td>\n",
       "      <td>10</td>\n",
       "      <td>356722.87</td>\n",
       "    </tr>\n",
       "    <tr>\n",
       "      <td>7</td>\n",
       "      <td>6</td>\n",
       "      <td>352848.93</td>\n",
       "    </tr>\n",
       "    <tr>\n",
       "      <td>8</td>\n",
       "      <td>4</td>\n",
       "      <td>304078.04</td>\n",
       "    </tr>\n",
       "    <tr>\n",
       "      <td>9</td>\n",
       "      <td>7</td>\n",
       "      <td>292697.03</td>\n",
       "    </tr>\n",
       "  </tbody>\n",
       "</table>\n",
       "</div>"
      ],
      "text/plain": [
       "   storeId  sum(grandTotal)\n",
       "0        9       1570505.63\n",
       "1        5        848480.85\n",
       "2        3        725627.54\n",
       "3        1        615513.04\n",
       "4        8        466044.54\n",
       "5        2        448350.78\n",
       "6       10        356722.87\n",
       "7        6        352848.93\n",
       "8        4        304078.04\n",
       "9        7        292697.03"
      ]
     },
     "execution_count": 86,
     "metadata": {},
     "output_type": "execute_result"
    }
   ],
   "source": [
    "pysqldf(\"\"\"\n",
    "    select storeId, sum(grandTotal) from orders group by storeId order by sum(grandTotal) desc;\n",
    "\"\"\")"
   ]
  },
  {
   "cell_type": "markdown",
   "metadata": {},
   "source": [
    "It looks like store 9 is the one with the most dollar sales at $1,570,505.63 (even though store 9 had only 600 more orders than store 5 it has almost 2X the sales. Apparently store 9's order average is much higher)"
   ]
  },
  {
   "cell_type": "code",
   "execution_count": 87,
   "metadata": {},
   "outputs": [
    {
     "data": {
      "text/plain": [
       "124.6828858367736"
      ]
     },
     "execution_count": 87,
     "metadata": {},
     "output_type": "execute_result"
    }
   ],
   "source": [
    "# Store 9's order average \n",
    "store_9_orders = orders[orders.storeId == 9]\n",
    "store_9_orders.grandTotal.mean()"
   ]
  },
  {
   "cell_type": "code",
   "execution_count": 88,
   "metadata": {},
   "outputs": [
    {
     "data": {
      "text/plain": [
       "71.00852372583479"
      ]
     },
     "execution_count": 88,
     "metadata": {},
     "output_type": "execute_result"
    }
   ],
   "source": [
    "# Store 5's order average\n",
    "store_5_orders = orders[orders.storeId == 5]\n",
    "store_5_orders.grandTotal.mean()"
   ]
  },
  {
   "cell_type": "markdown",
   "metadata": {},
   "source": [
    "# What are the top 5 stores in dollar amount on 2020 Black Friday (2020-11-27)"
   ]
  },
  {
   "cell_type": "markdown",
   "metadata": {},
   "source": [
    "First, I'll ask how many records have an order date of Black Friday."
   ]
  },
  {
   "cell_type": "code",
   "execution_count": 89,
   "metadata": {},
   "outputs": [],
   "source": [
    "# Ensuring that the dateCreated column is a datetime type\n",
    "orders.dateCreated = orders.dateCreated.astype('datetime64')"
   ]
  },
  {
   "cell_type": "code",
   "execution_count": 90,
   "metadata": {},
   "outputs": [],
   "source": [
    "order_date = orders.dateCreated"
   ]
  },
  {
   "cell_type": "code",
   "execution_count": 91,
   "metadata": {},
   "outputs": [],
   "source": [
    "bf_orders = orders[(order_date > '2020-11-27') & (order_date < '2020-11-28')]"
   ]
  },
  {
   "cell_type": "code",
   "execution_count": 92,
   "metadata": {},
   "outputs": [
    {
     "data": {
      "text/plain": [
       "1"
      ]
     },
     "execution_count": 92,
     "metadata": {},
     "output_type": "execute_result"
    }
   ],
   "source": [
    "# Confirm that there are only Black Friday dates now. \n",
    "bf_orders['dateCreated'].dt.date.nunique()"
   ]
  },
  {
   "cell_type": "markdown",
   "metadata": {},
   "source": [
    "Perfect. Only one unique value in that column based on date. Now let's peak at the bf_orders..."
   ]
  },
  {
   "cell_type": "code",
   "execution_count": 93,
   "metadata": {},
   "outputs": [
    {
     "data": {
      "text/html": [
       "<div>\n",
       "<style scoped>\n",
       "    .dataframe tbody tr th:only-of-type {\n",
       "        vertical-align: middle;\n",
       "    }\n",
       "\n",
       "    .dataframe tbody tr th {\n",
       "        vertical-align: top;\n",
       "    }\n",
       "\n",
       "    .dataframe thead th {\n",
       "        text-align: right;\n",
       "    }\n",
       "</style>\n",
       "<table border=\"1\" class=\"dataframe\">\n",
       "  <thead>\n",
       "    <tr style=\"text-align: right;\">\n",
       "      <th></th>\n",
       "      <th>storeId</th>\n",
       "      <th>storeName</th>\n",
       "      <th>dateCreated</th>\n",
       "      <th>itemsTotal</th>\n",
       "      <th>shipping</th>\n",
       "      <th>dutyTaxes</th>\n",
       "      <th>grandTotal</th>\n",
       "      <th>country</th>\n",
       "    </tr>\n",
       "  </thead>\n",
       "  <tbody>\n",
       "    <tr>\n",
       "      <td>23267</td>\n",
       "      <td>4</td>\n",
       "      <td>Wilhuff Tarkin</td>\n",
       "      <td>2020-11-27 00:00:04</td>\n",
       "      <td>154.56</td>\n",
       "      <td>31.95</td>\n",
       "      <td>51.16</td>\n",
       "      <td>237.67</td>\n",
       "      <td>CA</td>\n",
       "    </tr>\n",
       "    <tr>\n",
       "      <td>23268</td>\n",
       "      <td>4</td>\n",
       "      <td>Wilhuff Tarkin</td>\n",
       "      <td>2020-11-27 00:00:22</td>\n",
       "      <td>74.20</td>\n",
       "      <td>16.95</td>\n",
       "      <td>11.11</td>\n",
       "      <td>102.26</td>\n",
       "      <td>CA</td>\n",
       "    </tr>\n",
       "    <tr>\n",
       "      <td>23269</td>\n",
       "      <td>4</td>\n",
       "      <td>Wilhuff Tarkin</td>\n",
       "      <td>2020-11-27 00:01:20</td>\n",
       "      <td>89.60</td>\n",
       "      <td>31.95</td>\n",
       "      <td>11.65</td>\n",
       "      <td>133.20</td>\n",
       "      <td>CA</td>\n",
       "    </tr>\n",
       "    <tr>\n",
       "      <td>23270</td>\n",
       "      <td>4</td>\n",
       "      <td>Wilhuff Tarkin</td>\n",
       "      <td>2020-11-27 00:01:26</td>\n",
       "      <td>68.60</td>\n",
       "      <td>31.95</td>\n",
       "      <td>10.28</td>\n",
       "      <td>110.83</td>\n",
       "      <td>CA</td>\n",
       "    </tr>\n",
       "    <tr>\n",
       "      <td>23271</td>\n",
       "      <td>4</td>\n",
       "      <td>Wilhuff Tarkin</td>\n",
       "      <td>2020-11-27 00:01:27</td>\n",
       "      <td>165.20</td>\n",
       "      <td>53.95</td>\n",
       "      <td>40.14</td>\n",
       "      <td>259.29</td>\n",
       "      <td>CA</td>\n",
       "    </tr>\n",
       "    <tr>\n",
       "      <td>...</td>\n",
       "      <td>...</td>\n",
       "      <td>...</td>\n",
       "      <td>...</td>\n",
       "      <td>...</td>\n",
       "      <td>...</td>\n",
       "      <td>...</td>\n",
       "      <td>...</td>\n",
       "      <td>...</td>\n",
       "    </tr>\n",
       "    <tr>\n",
       "      <td>30169</td>\n",
       "      <td>9</td>\n",
       "      <td>Darth Vader</td>\n",
       "      <td>2020-11-27 23:59:18</td>\n",
       "      <td>51.75</td>\n",
       "      <td>0.00</td>\n",
       "      <td>21.36</td>\n",
       "      <td>73.11</td>\n",
       "      <td>GB</td>\n",
       "    </tr>\n",
       "    <tr>\n",
       "      <td>30170</td>\n",
       "      <td>1</td>\n",
       "      <td>Han Solo</td>\n",
       "      <td>2020-11-27 23:59:23</td>\n",
       "      <td>30.00</td>\n",
       "      <td>9.99</td>\n",
       "      <td>0.00</td>\n",
       "      <td>39.99</td>\n",
       "      <td>CA</td>\n",
       "    </tr>\n",
       "    <tr>\n",
       "      <td>30171</td>\n",
       "      <td>9</td>\n",
       "      <td>Darth Vader</td>\n",
       "      <td>2020-11-27 23:59:26</td>\n",
       "      <td>106.81</td>\n",
       "      <td>0.00</td>\n",
       "      <td>26.82</td>\n",
       "      <td>133.63</td>\n",
       "      <td>IE</td>\n",
       "    </tr>\n",
       "    <tr>\n",
       "      <td>30172</td>\n",
       "      <td>1</td>\n",
       "      <td>Han Solo</td>\n",
       "      <td>2020-11-27 23:59:30</td>\n",
       "      <td>48.00</td>\n",
       "      <td>9.99</td>\n",
       "      <td>5.76</td>\n",
       "      <td>63.75</td>\n",
       "      <td>CA</td>\n",
       "    </tr>\n",
       "    <tr>\n",
       "      <td>30173</td>\n",
       "      <td>9</td>\n",
       "      <td>Darth Vader</td>\n",
       "      <td>2020-11-27 23:59:37</td>\n",
       "      <td>60.75</td>\n",
       "      <td>14.95</td>\n",
       "      <td>0.00</td>\n",
       "      <td>75.70</td>\n",
       "      <td>IL</td>\n",
       "    </tr>\n",
       "  </tbody>\n",
       "</table>\n",
       "<p>6907 rows × 8 columns</p>\n",
       "</div>"
      ],
      "text/plain": [
       "       storeId       storeName         dateCreated  itemsTotal  shipping  \\\n",
       "23267        4  Wilhuff Tarkin 2020-11-27 00:00:04      154.56     31.95   \n",
       "23268        4  Wilhuff Tarkin 2020-11-27 00:00:22       74.20     16.95   \n",
       "23269        4  Wilhuff Tarkin 2020-11-27 00:01:20       89.60     31.95   \n",
       "23270        4  Wilhuff Tarkin 2020-11-27 00:01:26       68.60     31.95   \n",
       "23271        4  Wilhuff Tarkin 2020-11-27 00:01:27      165.20     53.95   \n",
       "...        ...             ...                 ...         ...       ...   \n",
       "30169        9     Darth Vader 2020-11-27 23:59:18       51.75      0.00   \n",
       "30170        1        Han Solo 2020-11-27 23:59:23       30.00      9.99   \n",
       "30171        9     Darth Vader 2020-11-27 23:59:26      106.81      0.00   \n",
       "30172        1        Han Solo 2020-11-27 23:59:30       48.00      9.99   \n",
       "30173        9     Darth Vader 2020-11-27 23:59:37       60.75     14.95   \n",
       "\n",
       "       dutyTaxes  grandTotal country  \n",
       "23267      51.16      237.67      CA  \n",
       "23268      11.11      102.26      CA  \n",
       "23269      11.65      133.20      CA  \n",
       "23270      10.28      110.83      CA  \n",
       "23271      40.14      259.29      CA  \n",
       "...          ...         ...     ...  \n",
       "30169      21.36       73.11      GB  \n",
       "30170       0.00       39.99      CA  \n",
       "30171      26.82      133.63      IE  \n",
       "30172       5.76       63.75      CA  \n",
       "30173       0.00       75.70      IL  \n",
       "\n",
       "[6907 rows x 8 columns]"
      ]
     },
     "execution_count": 93,
     "metadata": {},
     "output_type": "execute_result"
    }
   ],
   "source": [
    "bf_orders"
   ]
  },
  {
   "cell_type": "markdown",
   "metadata": {},
   "source": [
    "Alright so 6907 orders were on Black Friday. Let's group again only for those orders."
   ]
  },
  {
   "cell_type": "code",
   "execution_count": 94,
   "metadata": {},
   "outputs": [],
   "source": [
    "bf_orders_grouped = pysqldf(\"\"\"\n",
    "    select storeId, sum(grandTotal) from bf_orders group by storeId order by sum(grandTotal) desc;\n",
    "\"\"\")"
   ]
  },
  {
   "cell_type": "code",
   "execution_count": 95,
   "metadata": {},
   "outputs": [
    {
     "data": {
      "text/html": [
       "<div>\n",
       "<style scoped>\n",
       "    .dataframe tbody tr th:only-of-type {\n",
       "        vertical-align: middle;\n",
       "    }\n",
       "\n",
       "    .dataframe tbody tr th {\n",
       "        vertical-align: top;\n",
       "    }\n",
       "\n",
       "    .dataframe thead th {\n",
       "        text-align: right;\n",
       "    }\n",
       "</style>\n",
       "<table border=\"1\" class=\"dataframe\">\n",
       "  <thead>\n",
       "    <tr style=\"text-align: right;\">\n",
       "      <th></th>\n",
       "      <th>storeId</th>\n",
       "      <th>sum(grandTotal)</th>\n",
       "    </tr>\n",
       "  </thead>\n",
       "  <tbody>\n",
       "    <tr>\n",
       "      <td>0</td>\n",
       "      <td>1</td>\n",
       "      <td>249180.43</td>\n",
       "    </tr>\n",
       "    <tr>\n",
       "      <td>1</td>\n",
       "      <td>9</td>\n",
       "      <td>203946.49</td>\n",
       "    </tr>\n",
       "    <tr>\n",
       "      <td>2</td>\n",
       "      <td>5</td>\n",
       "      <td>134415.70</td>\n",
       "    </tr>\n",
       "    <tr>\n",
       "      <td>3</td>\n",
       "      <td>4</td>\n",
       "      <td>121572.96</td>\n",
       "    </tr>\n",
       "    <tr>\n",
       "      <td>4</td>\n",
       "      <td>6</td>\n",
       "      <td>41154.63</td>\n",
       "    </tr>\n",
       "  </tbody>\n",
       "</table>\n",
       "</div>"
      ],
      "text/plain": [
       "   storeId  sum(grandTotal)\n",
       "0        1        249180.43\n",
       "1        9        203946.49\n",
       "2        5        134415.70\n",
       "3        4        121572.96\n",
       "4        6         41154.63"
      ]
     },
     "execution_count": 95,
     "metadata": {},
     "output_type": "execute_result"
    }
   ],
   "source": [
    "# And here are the top 5 stores on Black Friday.\n",
    "bf_orders_grouped.head(5)"
   ]
  },
  {
   "cell_type": "markdown",
   "metadata": {},
   "source": [
    "# Build dashboard showing total revenue broken into categories and conversion rate"
   ]
  },
  {
   "cell_type": "code",
   "execution_count": 148,
   "metadata": {},
   "outputs": [
    {
     "data": {
      "image/png": "[encoded data removed]",
      "text/plain": [
       "<Figure size 1152x360 with 1 Axes>"
      ]
     },
     "metadata": {
      "needs_background": "light"
     },
     "output_type": "display_data"
    }
   ],
   "source": [
    "sums = pysqldf(\"\"\"\n",
    "    select sum(itemsTotal) as item, \n",
    "    sum(shipping) as ship, \n",
    "    sum(dutyTaxes) as duty \n",
    "    from orders;\n",
    "\"\"\")\n",
    "\n",
    "labels = ['Items', 'Shipping', 'Duty']\n",
    "values = [sums.item[0], sums.ship[0], sums.duty[0]]\n",
    "\n",
    "plt.figure(figsize=(16,5))\n",
    "plt.ylabel('Revenue')\n",
    "plt.title('Revenue broken up, entire dataset')\n",
    "\n",
    "plt.bar(labels, values);"
   ]
  },
  {
   "cell_type": "code",
   "execution_count": null,
   "metadata": {},
   "outputs": [],
   "source": []
  }
 ],
 "metadata": {
  "kernelspec": {
   "display_name": "Python 3",
   "language": "python",
   "name": "python3"
  },
  "language_info": {
   "codemirror_mode": {
    "name": "ipython",
    "version": 3
   },
   "file_extension": ".py",
   "mimetype": "text/x-python",
   "name": "python",
   "nbconvert_exporter": "python",
   "pygments_lexer": "ipython3",
   "version": "3.6.9"
  },
  "toc": {
   "base_numbering": 1,
   "nav_menu": {},
   "number_sections": true,
   "sideBar": true,
   "skip_h1_title": false,
   "title_cell": "Table of Contents",
   "title_sidebar": "Contents",
   "toc_cell": false,
   "toc_position": {},
   "toc_section_display": true,
   "toc_window_display": false
  }
 },
 "nbformat": 4,
 "nbformat_minor": 4
}
